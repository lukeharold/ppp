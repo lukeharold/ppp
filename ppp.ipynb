{
 "cells": [
  {
   "cell_type": "markdown",
   "metadata": {},
   "source": [
    "## PPP data breakdown \n",
    "\n",
    "By Luke Harold"
   ]
  },
  {
   "cell_type": "code",
   "execution_count": 1,
   "metadata": {},
   "outputs": [],
   "source": [
    "import pandas as pd"
   ]
  },
  {
   "cell_type": "code",
   "execution_count": 2,
   "metadata": {},
   "outputs": [],
   "source": [
    "import altair as alt"
   ]
  },
  {
   "cell_type": "code",
   "execution_count": 32,
   "metadata": {},
   "outputs": [],
   "source": [
    "pd.set_option('display.max_rows', 5)"
   ]
  },
  {
   "cell_type": "code",
   "execution_count": 4,
   "metadata": {},
   "outputs": [],
   "source": [
    "over_150 = pd.read_csv(\"foia_150k_plus.csv\")"
   ]
  },
  {
   "cell_type": "code",
   "execution_count": 5,
   "metadata": {},
   "outputs": [
    {
     "name": "stdout",
     "output_type": "stream",
     "text": [
      "<class 'pandas.core.frame.DataFrame'>\n",
      "RangeIndex: 661218 entries, 0 to 661217\n",
      "Data columns (total 16 columns):\n",
      "LoanRange        661218 non-null object\n",
      "BusinessName     661210 non-null object\n",
      "Address          661201 non-null object\n",
      "City             661203 non-null object\n",
      "State            661218 non-null object\n",
      "Zip              661202 non-null float64\n",
      "NAICSCode        654435 non-null float64\n",
      "BusinessType     659789 non-null object\n",
      "RaceEthnicity    661218 non-null object\n",
      "Gender           661218 non-null object\n",
      "Veteran          661218 non-null object\n",
      "NonProfit        42462 non-null object\n",
      "JobsRetained     620712 non-null float64\n",
      "DateApproved     661218 non-null object\n",
      "Lender           661218 non-null object\n",
      "CD               661218 non-null object\n",
      "dtypes: float64(3), object(13)\n",
      "memory usage: 80.7+ MB\n"
     ]
    }
   ],
   "source": [
    "over_150.info()"
   ]
  },
  {
   "cell_type": "code",
   "execution_count": 6,
   "metadata": {},
   "outputs": [],
   "source": [
    "ca_under_150 = pd.read_csv(\"foia_up_to_150k_CA.csv\")"
   ]
  },
  {
   "cell_type": "code",
   "execution_count": 7,
   "metadata": {},
   "outputs": [
    {
     "name": "stdout",
     "output_type": "stream",
     "text": [
      "<class 'pandas.core.frame.DataFrame'>\n",
      "RangeIndex: 493436 entries, 0 to 493435\n",
      "Data columns (total 14 columns):\n",
      "LoanAmount       493436 non-null float64\n",
      "City             493419 non-null object\n",
      "State            493436 non-null object\n",
      "Zip              493420 non-null float64\n",
      "NAICSCode        471136 non-null float64\n",
      "BusinessType     493159 non-null object\n",
      "RaceEthnicity    493436 non-null object\n",
      "Gender           493436 non-null object\n",
      "Veteran          493436 non-null object\n",
      "NonProfit        10766 non-null object\n",
      "JobsRetained     450603 non-null float64\n",
      "DateApproved     493436 non-null object\n",
      "Lender           493436 non-null object\n",
      "CD               493436 non-null object\n",
      "dtypes: float64(4), object(10)\n",
      "memory usage: 52.7+ MB\n"
     ]
    }
   ],
   "source": [
    "ca_under_150.info()"
   ]
  },
  {
   "cell_type": "code",
   "execution_count": 8,
   "metadata": {},
   "outputs": [],
   "source": [
    "state_over_150 = over_150[over_150.State == \"CA\"]"
   ]
  },
  {
   "cell_type": "code",
   "execution_count": 9,
   "metadata": {},
   "outputs": [],
   "source": [
    "## city-level data\n",
    "\n",
    "## the data is not the cleanest. For example, filtering the city column \n",
    "## to all \"SOLANA BEACH\" results leaves out one row in which the \n",
    "## city name was entered as \"SOLANA BEACH,\""
   ]
  },
  {
   "cell_type": "code",
   "execution_count": 47,
   "metadata": {},
   "outputs": [],
   "source": [
    "city_over_150 = state_over_150[state_over_150.City == \"ENCINITAS\"]"
   ]
  },
  {
   "cell_type": "code",
   "execution_count": 33,
   "metadata": {},
   "outputs": [],
   "source": [
    "city_under_150 = ca_under_150[ca_under_150.City == \"RANCHO SANTA FE\"]"
   ]
  },
  {
   "cell_type": "code",
   "execution_count": 12,
   "metadata": {},
   "outputs": [
    {
     "data": {
      "text/plain": [
       "2042.0"
      ]
     },
     "execution_count": 12,
     "metadata": {},
     "output_type": "execute_result"
    }
   ],
   "source": [
    "city_over_150.JobsRetained.sum()"
   ]
  },
  {
   "cell_type": "code",
   "execution_count": 13,
   "metadata": {},
   "outputs": [
    {
     "data": {
      "text/plain": [
       "2892.0"
      ]
     },
     "execution_count": 13,
     "metadata": {},
     "output_type": "execute_result"
    }
   ],
   "source": [
    "city_under_150.JobsRetained.sum()"
   ]
  },
  {
   "cell_type": "code",
   "execution_count": 14,
   "metadata": {},
   "outputs": [],
   "source": [
    "## how many total jobs were retained in the city?\n",
    "\n",
    "## caveat: this field is not listed for many of \n",
    "## the entries, so the total is low"
   ]
  },
  {
   "cell_type": "code",
   "execution_count": 15,
   "metadata": {},
   "outputs": [],
   "source": [
    "total_jobs_retained = city_under_150.JobsRetained.sum() + city_over_150.JobsRetained.sum()"
   ]
  },
  {
   "cell_type": "code",
   "execution_count": 16,
   "metadata": {},
   "outputs": [
    {
     "data": {
      "text/plain": [
       "4934.0"
      ]
     },
     "execution_count": 16,
     "metadata": {},
     "output_type": "execute_result"
    }
   ],
   "source": [
    "total_jobs_retained"
   ]
  },
  {
   "cell_type": "code",
   "execution_count": 17,
   "metadata": {},
   "outputs": [],
   "source": [
    "## how many businesses did not list the number of jobs they are saving?\n",
    "\n",
    "## some rows said 0.0, others said NaN. I converted all NaN entries \n",
    "## in the JobsRetained column to 0.0 for purposes of using value_counts\n",
    "## to get a total number of businesses that did not report a number of \n",
    "## 1 or greater"
   ]
  },
  {
   "cell_type": "code",
   "execution_count": 18,
   "metadata": {},
   "outputs": [
    {
     "name": "stderr",
     "output_type": "stream",
     "text": [
      "/Library/Frameworks/Python.framework/Versions/3.7/lib/python3.7/site-packages/pandas/core/generic.py:6130: SettingWithCopyWarning: \n",
      "A value is trying to be set on a copy of a slice from a DataFrame\n",
      "\n",
      "See the caveats in the documentation: http://pandas.pydata.org/pandas-docs/stable/indexing.html#indexing-view-versus-copy\n",
      "  self._update_inplace(new_data)\n"
     ]
    }
   ],
   "source": [
    "city_over_150.JobsRetained.fillna(0, inplace = True)"
   ]
  },
  {
   "cell_type": "code",
   "execution_count": 35,
   "metadata": {},
   "outputs": [
    {
     "data": {
      "text/plain": [
       "0.0      13\n",
       "23.0      3\n",
       "         ..\n",
       "6.0       1\n",
       "213.0     1\n",
       "Name: JobsRetained, Length: 31, dtype: int64"
      ]
     },
     "execution_count": 35,
     "metadata": {},
     "output_type": "execute_result"
    }
   ],
   "source": [
    "city_over_150.JobsRetained.value_counts()"
   ]
  },
  {
   "cell_type": "code",
   "execution_count": 20,
   "metadata": {},
   "outputs": [],
   "source": [
    "city_under_150.JobsRetained.fillna(0, inplace = True)"
   ]
  },
  {
   "cell_type": "code",
   "execution_count": 34,
   "metadata": {},
   "outputs": [
    {
     "data": {
      "text/plain": [
       "1.0     66\n",
       "2.0     50\n",
       "        ..\n",
       "17.0     1\n",
       "27.0     1\n",
       "Name: JobsRetained, Length: 21, dtype: int64"
      ]
     },
     "execution_count": 34,
     "metadata": {},
     "output_type": "execute_result"
    }
   ],
   "source": [
    "city_under_150.JobsRetained.value_counts()"
   ]
  },
  {
   "cell_type": "code",
   "execution_count": 22,
   "metadata": {},
   "outputs": [],
   "source": [
    "## who were the businesses that reported either 0 or NaN\n",
    "## under the JobsRetained column?"
   ]
  },
  {
   "cell_type": "code",
   "execution_count": 36,
   "metadata": {},
   "outputs": [
    {
     "data": {
      "text/html": [
       "<div>\n",
       "<style scoped>\n",
       "    .dataframe tbody tr th:only-of-type {\n",
       "        vertical-align: middle;\n",
       "    }\n",
       "\n",
       "    .dataframe tbody tr th {\n",
       "        vertical-align: top;\n",
       "    }\n",
       "\n",
       "    .dataframe thead th {\n",
       "        text-align: right;\n",
       "    }\n",
       "</style>\n",
       "<table border=\"1\" class=\"dataframe\">\n",
       "  <thead>\n",
       "    <tr style=\"text-align: right;\">\n",
       "      <th></th>\n",
       "      <th>LoanRange</th>\n",
       "      <th>BusinessName</th>\n",
       "      <th>Address</th>\n",
       "      <th>City</th>\n",
       "      <th>State</th>\n",
       "      <th>Zip</th>\n",
       "      <th>NAICSCode</th>\n",
       "      <th>BusinessType</th>\n",
       "      <th>RaceEthnicity</th>\n",
       "      <th>Gender</th>\n",
       "      <th>Veteran</th>\n",
       "      <th>NonProfit</th>\n",
       "      <th>JobsRetained</th>\n",
       "      <th>DateApproved</th>\n",
       "      <th>Lender</th>\n",
       "      <th>CD</th>\n",
       "    </tr>\n",
       "  </thead>\n",
       "  <tbody>\n",
       "    <tr>\n",
       "      <th>36496</th>\n",
       "      <td>d $350,000-1 million</td>\n",
       "      <td>AADVANCED HOME HEALTH SERVICES</td>\n",
       "      <td>1155 CAMINO DEL MAR</td>\n",
       "      <td>DEL MAR</td>\n",
       "      <td>CA</td>\n",
       "      <td>92014.0</td>\n",
       "      <td>621610.0</td>\n",
       "      <td>Corporation</td>\n",
       "      <td>Unanswered</td>\n",
       "      <td>Unanswered</td>\n",
       "      <td>Unanswered</td>\n",
       "      <td>NaN</td>\n",
       "      <td>0.0</td>\n",
       "      <td>05/03/2020</td>\n",
       "      <td>Wells Fargo Bank, National Association</td>\n",
       "      <td>CA - 49</td>\n",
       "    </tr>\n",
       "    <tr>\n",
       "      <th>39334</th>\n",
       "      <td>d $350,000-1 million</td>\n",
       "      <td>BLACKHORSE GRILLE LLC</td>\n",
       "      <td>3702 VIA DE LA VALLE</td>\n",
       "      <td>DEL MAR</td>\n",
       "      <td>CA</td>\n",
       "      <td>92014.0</td>\n",
       "      <td>722511.0</td>\n",
       "      <td>Limited  Liability Company(LLC)</td>\n",
       "      <td>Unanswered</td>\n",
       "      <td>Unanswered</td>\n",
       "      <td>Unanswered</td>\n",
       "      <td>NaN</td>\n",
       "      <td>0.0</td>\n",
       "      <td>04/14/2020</td>\n",
       "      <td>C3Bank, National Association</td>\n",
       "      <td>CA - 49</td>\n",
       "    </tr>\n",
       "    <tr>\n",
       "      <th>...</th>\n",
       "      <td>...</td>\n",
       "      <td>...</td>\n",
       "      <td>...</td>\n",
       "      <td>...</td>\n",
       "      <td>...</td>\n",
       "      <td>...</td>\n",
       "      <td>...</td>\n",
       "      <td>...</td>\n",
       "      <td>...</td>\n",
       "      <td>...</td>\n",
       "      <td>...</td>\n",
       "      <td>...</td>\n",
       "      <td>...</td>\n",
       "      <td>...</td>\n",
       "      <td>...</td>\n",
       "      <td>...</td>\n",
       "    </tr>\n",
       "    <tr>\n",
       "      <th>99078</th>\n",
       "      <td>e $150,000-350,000</td>\n",
       "      <td>RANCHO TRADE INC</td>\n",
       "      <td>3675 Via De La Valle</td>\n",
       "      <td>DEL MAR</td>\n",
       "      <td>CA</td>\n",
       "      <td>92014.0</td>\n",
       "      <td>451110.0</td>\n",
       "      <td>Subchapter S Corporation</td>\n",
       "      <td>Unanswered</td>\n",
       "      <td>Unanswered</td>\n",
       "      <td>Unanswered</td>\n",
       "      <td>NaN</td>\n",
       "      <td>0.0</td>\n",
       "      <td>04/28/2020</td>\n",
       "      <td>Banner Bank</td>\n",
       "      <td>CA - 49</td>\n",
       "    </tr>\n",
       "    <tr>\n",
       "      <th>102101</th>\n",
       "      <td>e $150,000-350,000</td>\n",
       "      <td>SBICCA AN AMERICAN BISTRO, L.P</td>\n",
       "      <td>215 15TH ST</td>\n",
       "      <td>DEL MAR</td>\n",
       "      <td>CA</td>\n",
       "      <td>92014.0</td>\n",
       "      <td>722511.0</td>\n",
       "      <td>Partnership</td>\n",
       "      <td>White</td>\n",
       "      <td>Male Owned</td>\n",
       "      <td>Non-Veteran</td>\n",
       "      <td>NaN</td>\n",
       "      <td>0.0</td>\n",
       "      <td>04/15/2020</td>\n",
       "      <td>JPMorgan Chase Bank, National Association</td>\n",
       "      <td>CA - 49</td>\n",
       "    </tr>\n",
       "  </tbody>\n",
       "</table>\n",
       "<p>13 rows × 16 columns</p>\n",
       "</div>"
      ],
      "text/plain": [
       "                   LoanRange                    BusinessName  \\\n",
       "36496   d $350,000-1 million  AADVANCED HOME HEALTH SERVICES   \n",
       "39334   d $350,000-1 million           BLACKHORSE GRILLE LLC   \n",
       "...                      ...                             ...   \n",
       "99078     e $150,000-350,000                RANCHO TRADE INC   \n",
       "102101    e $150,000-350,000  SBICCA AN AMERICAN BISTRO, L.P   \n",
       "\n",
       "                     Address     City State      Zip  NAICSCode  \\\n",
       "36496    1155 CAMINO DEL MAR  DEL MAR    CA  92014.0   621610.0   \n",
       "39334   3702 VIA DE LA VALLE  DEL MAR    CA  92014.0   722511.0   \n",
       "...                      ...      ...   ...      ...        ...   \n",
       "99078   3675 Via De La Valle  DEL MAR    CA  92014.0   451110.0   \n",
       "102101           215 15TH ST  DEL MAR    CA  92014.0   722511.0   \n",
       "\n",
       "                           BusinessType RaceEthnicity      Gender  \\\n",
       "36496                       Corporation    Unanswered  Unanswered   \n",
       "39334   Limited  Liability Company(LLC)    Unanswered  Unanswered   \n",
       "...                                 ...           ...         ...   \n",
       "99078          Subchapter S Corporation    Unanswered  Unanswered   \n",
       "102101                      Partnership         White  Male Owned   \n",
       "\n",
       "            Veteran NonProfit  JobsRetained DateApproved  \\\n",
       "36496    Unanswered       NaN           0.0   05/03/2020   \n",
       "39334    Unanswered       NaN           0.0   04/14/2020   \n",
       "...             ...       ...           ...          ...   \n",
       "99078    Unanswered       NaN           0.0   04/28/2020   \n",
       "102101  Non-Veteran       NaN           0.0   04/15/2020   \n",
       "\n",
       "                                           Lender       CD  \n",
       "36496      Wells Fargo Bank, National Association  CA - 49  \n",
       "39334                C3Bank, National Association  CA - 49  \n",
       "...                                           ...      ...  \n",
       "99078                                 Banner Bank  CA - 49  \n",
       "102101  JPMorgan Chase Bank, National Association  CA - 49  \n",
       "\n",
       "[13 rows x 16 columns]"
      ]
     },
     "execution_count": 36,
     "metadata": {},
     "output_type": "execute_result"
    }
   ],
   "source": [
    "city_over_150[city_over_150.JobsRetained == 0]"
   ]
  },
  {
   "cell_type": "code",
   "execution_count": 37,
   "metadata": {},
   "outputs": [
    {
     "data": {
      "text/html": [
       "<div>\n",
       "<style scoped>\n",
       "    .dataframe tbody tr th:only-of-type {\n",
       "        vertical-align: middle;\n",
       "    }\n",
       "\n",
       "    .dataframe tbody tr th {\n",
       "        vertical-align: top;\n",
       "    }\n",
       "\n",
       "    .dataframe thead th {\n",
       "        text-align: right;\n",
       "    }\n",
       "</style>\n",
       "<table border=\"1\" class=\"dataframe\">\n",
       "  <thead>\n",
       "    <tr style=\"text-align: right;\">\n",
       "      <th></th>\n",
       "      <th>LoanAmount</th>\n",
       "      <th>City</th>\n",
       "      <th>State</th>\n",
       "      <th>Zip</th>\n",
       "      <th>NAICSCode</th>\n",
       "      <th>BusinessType</th>\n",
       "      <th>RaceEthnicity</th>\n",
       "      <th>Gender</th>\n",
       "      <th>Veteran</th>\n",
       "      <th>NonProfit</th>\n",
       "      <th>JobsRetained</th>\n",
       "      <th>DateApproved</th>\n",
       "      <th>Lender</th>\n",
       "      <th>CD</th>\n",
       "    </tr>\n",
       "  </thead>\n",
       "  <tbody>\n",
       "    <tr>\n",
       "      <th>19823</th>\n",
       "      <td>119755.0</td>\n",
       "      <td>RANCHO SANTA FE</td>\n",
       "      <td>CA</td>\n",
       "      <td>92067.0</td>\n",
       "      <td>541612.0</td>\n",
       "      <td>Corporation</td>\n",
       "      <td>Unanswered</td>\n",
       "      <td>Unanswered</td>\n",
       "      <td>Unanswered</td>\n",
       "      <td>NaN</td>\n",
       "      <td>0.0</td>\n",
       "      <td>04/15/2020</td>\n",
       "      <td>Endeavor Bank</td>\n",
       "      <td>CA - 49</td>\n",
       "    </tr>\n",
       "    <tr>\n",
       "      <th>42369</th>\n",
       "      <td>96132.0</td>\n",
       "      <td>RANCHO SANTA FE</td>\n",
       "      <td>CA</td>\n",
       "      <td>92067.0</td>\n",
       "      <td>999990.0</td>\n",
       "      <td>Corporation</td>\n",
       "      <td>Unanswered</td>\n",
       "      <td>Unanswered</td>\n",
       "      <td>Unanswered</td>\n",
       "      <td>NaN</td>\n",
       "      <td>0.0</td>\n",
       "      <td>05/03/2020</td>\n",
       "      <td>Cross River Bank</td>\n",
       "      <td>CA - 49</td>\n",
       "    </tr>\n",
       "    <tr>\n",
       "      <th>...</th>\n",
       "      <td>...</td>\n",
       "      <td>...</td>\n",
       "      <td>...</td>\n",
       "      <td>...</td>\n",
       "      <td>...</td>\n",
       "      <td>...</td>\n",
       "      <td>...</td>\n",
       "      <td>...</td>\n",
       "      <td>...</td>\n",
       "      <td>...</td>\n",
       "      <td>...</td>\n",
       "      <td>...</td>\n",
       "      <td>...</td>\n",
       "      <td>...</td>\n",
       "    </tr>\n",
       "    <tr>\n",
       "      <th>470692</th>\n",
       "      <td>3045.0</td>\n",
       "      <td>RANCHO SANTA FE</td>\n",
       "      <td>CA</td>\n",
       "      <td>92024.0</td>\n",
       "      <td>423610.0</td>\n",
       "      <td>Limited  Liability Company(LLC)</td>\n",
       "      <td>Unanswered</td>\n",
       "      <td>Unanswered</td>\n",
       "      <td>Unanswered</td>\n",
       "      <td>NaN</td>\n",
       "      <td>0.0</td>\n",
       "      <td>05/01/2020</td>\n",
       "      <td>JPMorgan Chase Bank, National Association</td>\n",
       "      <td>CA - 49</td>\n",
       "    </tr>\n",
       "    <tr>\n",
       "      <th>474029</th>\n",
       "      <td>2719.0</td>\n",
       "      <td>RANCHO SANTA FE</td>\n",
       "      <td>CA</td>\n",
       "      <td>92091.0</td>\n",
       "      <td>541810.0</td>\n",
       "      <td>Limited  Liability Company(LLC)</td>\n",
       "      <td>Unanswered</td>\n",
       "      <td>Unanswered</td>\n",
       "      <td>Unanswered</td>\n",
       "      <td>NaN</td>\n",
       "      <td>0.0</td>\n",
       "      <td>06/26/2020</td>\n",
       "      <td>Wells Fargo Bank, National Association</td>\n",
       "      <td>CA - 49</td>\n",
       "    </tr>\n",
       "  </tbody>\n",
       "</table>\n",
       "<p>38 rows × 14 columns</p>\n",
       "</div>"
      ],
      "text/plain": [
       "        LoanAmount             City State      Zip  NAICSCode  \\\n",
       "19823     119755.0  RANCHO SANTA FE    CA  92067.0   541612.0   \n",
       "42369      96132.0  RANCHO SANTA FE    CA  92067.0   999990.0   \n",
       "...            ...              ...   ...      ...        ...   \n",
       "470692      3045.0  RANCHO SANTA FE    CA  92024.0   423610.0   \n",
       "474029      2719.0  RANCHO SANTA FE    CA  92091.0   541810.0   \n",
       "\n",
       "                           BusinessType RaceEthnicity      Gender     Veteran  \\\n",
       "19823                       Corporation    Unanswered  Unanswered  Unanswered   \n",
       "42369                       Corporation    Unanswered  Unanswered  Unanswered   \n",
       "...                                 ...           ...         ...         ...   \n",
       "470692  Limited  Liability Company(LLC)    Unanswered  Unanswered  Unanswered   \n",
       "474029  Limited  Liability Company(LLC)    Unanswered  Unanswered  Unanswered   \n",
       "\n",
       "       NonProfit  JobsRetained DateApproved  \\\n",
       "19823        NaN           0.0   04/15/2020   \n",
       "42369        NaN           0.0   05/03/2020   \n",
       "...          ...           ...          ...   \n",
       "470692       NaN           0.0   05/01/2020   \n",
       "474029       NaN           0.0   06/26/2020   \n",
       "\n",
       "                                           Lender       CD  \n",
       "19823                               Endeavor Bank  CA - 49  \n",
       "42369                            Cross River Bank  CA - 49  \n",
       "...                                           ...      ...  \n",
       "470692  JPMorgan Chase Bank, National Association  CA - 49  \n",
       "474029     Wells Fargo Bank, National Association  CA - 49  \n",
       "\n",
       "[38 rows x 14 columns]"
      ]
     },
     "execution_count": 37,
     "metadata": {},
     "output_type": "execute_result"
    }
   ],
   "source": [
    "city_under_150[city_under_150.JobsRetained == 0]"
   ]
  },
  {
   "cell_type": "code",
   "execution_count": 25,
   "metadata": {},
   "outputs": [],
   "source": [
    "## how much money did businesses in the city receive/\n",
    "## how many were there in each loan bracket?"
   ]
  },
  {
   "cell_type": "code",
   "execution_count": 26,
   "metadata": {},
   "outputs": [
    {
     "data": {
      "text/html": [
       "<div>\n",
       "<style scoped>\n",
       "    .dataframe tbody tr th:only-of-type {\n",
       "        vertical-align: middle;\n",
       "    }\n",
       "\n",
       "    .dataframe tbody tr th {\n",
       "        vertical-align: top;\n",
       "    }\n",
       "\n",
       "    .dataframe thead th {\n",
       "        text-align: right;\n",
       "    }\n",
       "</style>\n",
       "<table border=\"1\" class=\"dataframe\">\n",
       "  <thead>\n",
       "    <tr style=\"text-align: right;\">\n",
       "      <th></th>\n",
       "      <th>index</th>\n",
       "      <th>LoanRange</th>\n",
       "    </tr>\n",
       "  </thead>\n",
       "  <tbody>\n",
       "    <tr>\n",
       "      <th>0</th>\n",
       "      <td>e $150,000-350,000</td>\n",
       "      <td>34</td>\n",
       "    </tr>\n",
       "    <tr>\n",
       "      <th>1</th>\n",
       "      <td>d $350,000-1 million</td>\n",
       "      <td>16</td>\n",
       "    </tr>\n",
       "    <tr>\n",
       "      <th>2</th>\n",
       "      <td>b $2-5 million</td>\n",
       "      <td>2</td>\n",
       "    </tr>\n",
       "  </tbody>\n",
       "</table>\n",
       "</div>"
      ],
      "text/plain": [
       "                  index  LoanRange\n",
       "0    e $150,000-350,000         34\n",
       "1  d $350,000-1 million         16\n",
       "2        b $2-5 million          2"
      ]
     },
     "execution_count": 26,
     "metadata": {},
     "output_type": "execute_result"
    }
   ],
   "source": [
    "city_over_150.LoanRange.value_counts().reset_index()"
   ]
  },
  {
   "cell_type": "code",
   "execution_count": 27,
   "metadata": {},
   "outputs": [
    {
     "ename": "NameError",
     "evalue": "name 'sd_breakdown' is not defined",
     "output_type": "error",
     "traceback": [
      "\u001b[0;31m---------------------------------------------------------------------------\u001b[0m",
      "\u001b[0;31mNameError\u001b[0m                                 Traceback (most recent call last)",
      "\u001b[0;32m<ipython-input-27-80bf0a27f082>\u001b[0m in \u001b[0;36m<module>\u001b[0;34m\u001b[0m\n\u001b[0;32m----> 1\u001b[0;31m \u001b[0msd_breakdown\u001b[0m\u001b[0;34m.\u001b[0m\u001b[0mto_csv\u001b[0m\u001b[0;34m(\u001b[0m\u001b[0;34m\"sd_breakdown.csv\"\u001b[0m\u001b[0;34m)\u001b[0m\u001b[0;34m\u001b[0m\u001b[0;34m\u001b[0m\u001b[0m\n\u001b[0m",
      "\u001b[0;31mNameError\u001b[0m: name 'sd_breakdown' is not defined"
     ]
    }
   ],
   "source": [
    "sd_breakdown.to_csv(\"sd_breakdown.csv\")"
   ]
  },
  {
   "cell_type": "code",
   "execution_count": null,
   "metadata": {},
   "outputs": [],
   "source": [
    "city_under_150.LoanAmount.sum()"
   ]
  },
  {
   "cell_type": "code",
   "execution_count": null,
   "metadata": {},
   "outputs": [],
   "source": [
    "bins = [0, 25000, 50000, 75000, 100000, 125000, 150000]\n",
    "sd_breakdown_u150 = city_under_150.LoanAmount.value_counts(bins=bins, sort=False).reset_index()"
   ]
  },
  {
   "cell_type": "code",
   "execution_count": null,
   "metadata": {},
   "outputs": [],
   "source": [
    "sd_breakdown_u150.to_csv(\"sd_breakdown_u150.csv\")"
   ]
  },
  {
   "cell_type": "code",
   "execution_count": null,
   "metadata": {},
   "outputs": [],
   "source": [
    "## how many businesses in the city received PPP loans?"
   ]
  },
  {
   "cell_type": "code",
   "execution_count": 42,
   "metadata": {},
   "outputs": [
    {
     "data": {
      "text/plain": [
       "44"
      ]
     },
     "execution_count": 42,
     "metadata": {},
     "output_type": "execute_result"
    }
   ],
   "source": [
    "city_over_150.LoanRange.value_counts().sum()"
   ]
  },
  {
   "cell_type": "code",
   "execution_count": 40,
   "metadata": {},
   "outputs": [
    {
     "data": {
      "text/plain": [
       "264"
      ]
     },
     "execution_count": 40,
     "metadata": {},
     "output_type": "execute_result"
    }
   ],
   "source": [
    "city_under_150.LoanAmount.value_counts().sum()"
   ]
  },
  {
   "cell_type": "code",
   "execution_count": 43,
   "metadata": {},
   "outputs": [
    {
     "data": {
      "text/plain": [
       "308"
      ]
     },
     "execution_count": 43,
     "metadata": {},
     "output_type": "execute_result"
    }
   ],
   "source": [
    "city_over_150.LoanRange.value_counts().sum() + city_under_150.LoanAmount.value_counts().sum()"
   ]
  },
  {
   "cell_type": "code",
   "execution_count": null,
   "metadata": {},
   "outputs": [],
   "source": [
    "## who were the businesses?\n",
    "\n",
    "## business names were given for loan recipients who\n",
    "## got more than $150,000;\n",
    "\n",
    "## business types were given for businesses that received \n",
    "## less than $150,000"
   ]
  },
  {
   "cell_type": "code",
   "execution_count": null,
   "metadata": {},
   "outputs": [],
   "source": [
    "city_over_150.BusinessName.reset_index()"
   ]
  },
  {
   "cell_type": "code",
   "execution_count": null,
   "metadata": {},
   "outputs": [],
   "source": [
    "city_under_150.BusinessType.value_counts()"
   ]
  },
  {
   "cell_type": "code",
   "execution_count": null,
   "metadata": {},
   "outputs": [],
   "source": [
    "## breakdown of who got money based on bracket\n",
    "\n",
    "## a: 5-10m\n",
    "## b: 2-5m\n",
    "## c: 1-2m\n",
    "## d: $350k to $1m\n",
    "## e: $150-350k"
   ]
  },
  {
   "cell_type": "code",
   "execution_count": null,
   "metadata": {},
   "outputs": [],
   "source": [
    "city_over_150[city_over_150.LoanRange.str.contains('d')]"
   ]
  },
  {
   "cell_type": "code",
   "execution_count": null,
   "metadata": {},
   "outputs": [],
   "source": [
    "## search for a specific business"
   ]
  },
  {
   "cell_type": "code",
   "execution_count": 48,
   "metadata": {},
   "outputs": [
    {
     "data": {
      "text/html": [
       "<div>\n",
       "<style scoped>\n",
       "    .dataframe tbody tr th:only-of-type {\n",
       "        vertical-align: middle;\n",
       "    }\n",
       "\n",
       "    .dataframe tbody tr th {\n",
       "        vertical-align: top;\n",
       "    }\n",
       "\n",
       "    .dataframe thead th {\n",
       "        text-align: right;\n",
       "    }\n",
       "</style>\n",
       "<table border=\"1\" class=\"dataframe\">\n",
       "  <thead>\n",
       "    <tr style=\"text-align: right;\">\n",
       "      <th></th>\n",
       "      <th>LoanRange</th>\n",
       "      <th>BusinessName</th>\n",
       "      <th>Address</th>\n",
       "      <th>City</th>\n",
       "      <th>State</th>\n",
       "      <th>Zip</th>\n",
       "      <th>NAICSCode</th>\n",
       "      <th>BusinessType</th>\n",
       "      <th>RaceEthnicity</th>\n",
       "      <th>Gender</th>\n",
       "      <th>Veteran</th>\n",
       "      <th>NonProfit</th>\n",
       "      <th>JobsRetained</th>\n",
       "      <th>DateApproved</th>\n",
       "      <th>Lender</th>\n",
       "      <th>CD</th>\n",
       "    </tr>\n",
       "  </thead>\n",
       "  <tbody>\n",
       "    <tr>\n",
       "      <th>44167</th>\n",
       "      <td>d $350,000-1 million</td>\n",
       "      <td>ENCINITAS COUNTRY DAY SCHOOL, INC.</td>\n",
       "      <td>3616 MANCHESTER AVE</td>\n",
       "      <td>ENCINITAS</td>\n",
       "      <td>CA</td>\n",
       "      <td>92024.0</td>\n",
       "      <td>611110.0</td>\n",
       "      <td>Corporation</td>\n",
       "      <td>Unanswered</td>\n",
       "      <td>Female Owned</td>\n",
       "      <td>Non-Veteran</td>\n",
       "      <td>NaN</td>\n",
       "      <td>45.0</td>\n",
       "      <td>05/01/2020</td>\n",
       "      <td>JPMorgan Chase Bank, National Association</td>\n",
       "      <td>CA - 49</td>\n",
       "    </tr>\n",
       "    <tr>\n",
       "      <th>71496</th>\n",
       "      <td>e $150,000-350,000</td>\n",
       "      <td>CENTRAL MONTESSORI SCHOOL</td>\n",
       "      <td>286 N EL CAMINO REAL</td>\n",
       "      <td>ENCINITAS</td>\n",
       "      <td>CA</td>\n",
       "      <td>92024.0</td>\n",
       "      <td>611699.0</td>\n",
       "      <td>Corporation</td>\n",
       "      <td>Unanswered</td>\n",
       "      <td>Unanswered</td>\n",
       "      <td>Unanswered</td>\n",
       "      <td>NaN</td>\n",
       "      <td>18.0</td>\n",
       "      <td>05/01/2020</td>\n",
       "      <td>Bank of America, National Association</td>\n",
       "      <td>CA - 49</td>\n",
       "    </tr>\n",
       "  </tbody>\n",
       "</table>\n",
       "</div>"
      ],
      "text/plain": [
       "                  LoanRange                        BusinessName  \\\n",
       "44167  d $350,000-1 million  ENCINITAS COUNTRY DAY SCHOOL, INC.   \n",
       "71496    e $150,000-350,000           CENTRAL MONTESSORI SCHOOL   \n",
       "\n",
       "                    Address       City State      Zip  NAICSCode BusinessType  \\\n",
       "44167   3616 MANCHESTER AVE  ENCINITAS    CA  92024.0   611110.0  Corporation   \n",
       "71496  286 N EL CAMINO REAL  ENCINITAS    CA  92024.0   611699.0  Corporation   \n",
       "\n",
       "      RaceEthnicity        Gender      Veteran NonProfit  JobsRetained  \\\n",
       "44167    Unanswered  Female Owned  Non-Veteran       NaN          45.0   \n",
       "71496    Unanswered    Unanswered   Unanswered       NaN          18.0   \n",
       "\n",
       "      DateApproved                                     Lender       CD  \n",
       "44167   05/01/2020  JPMorgan Chase Bank, National Association  CA - 49  \n",
       "71496   05/01/2020      Bank of America, National Association  CA - 49  "
      ]
     },
     "execution_count": 48,
     "metadata": {},
     "output_type": "execute_result"
    }
   ],
   "source": [
    "city_over_150[city_over_150.BusinessName.str.contains('SCHOOL')]"
   ]
  },
  {
   "cell_type": "code",
   "execution_count": null,
   "metadata": {},
   "outputs": [],
   "source": [
    "## which banks were granting the loans?"
   ]
  },
  {
   "cell_type": "code",
   "execution_count": 29,
   "metadata": {},
   "outputs": [
    {
     "data": {
      "text/plain": [
       "Wells Fargo Bank, National Association               5\n",
       "JPMorgan Chase Bank, National Association            4\n",
       "First Republic Bank                                  4\n",
       "MUFG Union Bank, National Association                3\n",
       "Western Alliance Bank                                3\n",
       "Bank of Southern California, National Association    2\n",
       "Bank of America, National Association                2\n",
       "Fund-Ex Solutions Group, LLC                         2\n",
       "C3Bank, National Association                         2\n",
       "CalPrivate Bank                                      2\n",
       "BSD Capital, LLC dba Lendistry                       2\n",
       "Pacific Western Bank                                 2\n",
       "Harvest Small Business Finance, LLC                  2\n",
       "Cross River Bank                                     2\n",
       "Zions Bank, A Division of                            2\n",
       "Axos Bank                                            1\n",
       "The Northern Trust Company                           1\n",
       "Pacific Premier Bank                                 1\n",
       "Endeavor Bank                                        1\n",
       "Live Oak Banking Company                             1\n",
       "Cache Valley Bank                                    1\n",
       "Banner Bank                                          1\n",
       "Central Pacific Bank                                 1\n",
       "Umpqua Bank                                          1\n",
       "FinWise Bank                                         1\n",
       "Midwest Regional Bank                                1\n",
       "Mission Valley Bank                                  1\n",
       "River City Bank                                      1\n",
       "Name: Lender, dtype: int64"
      ]
     },
     "execution_count": 29,
     "metadata": {},
     "output_type": "execute_result"
    }
   ],
   "source": [
    "city_over_150.Lender.value_counts()"
   ]
  },
  {
   "cell_type": "code",
   "execution_count": null,
   "metadata": {},
   "outputs": [],
   "source": []
  }
 ],
 "metadata": {
  "kernelspec": {
   "display_name": "Python 3",
   "language": "python",
   "name": "python3"
  },
  "language_info": {
   "codemirror_mode": {
    "name": "ipython",
    "version": 3
   },
   "file_extension": ".py",
   "mimetype": "text/x-python",
   "name": "python",
   "nbconvert_exporter": "python",
   "pygments_lexer": "ipython3",
   "version": "3.7.2"
  }
 },
 "nbformat": 4,
 "nbformat_minor": 4
}
